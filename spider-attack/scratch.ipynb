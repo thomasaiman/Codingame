{
 "cells": [
  {
   "cell_type": "code",
   "execution_count": 1,
   "metadata": {},
   "outputs": [
    {
     "name": "stdout",
     "output_type": "stream",
     "text": [
      "[False, False, True]\n",
      "[False, False, True]\n"
     ]
    }
   ],
   "source": [
    "x = [False, True, False]\n",
    "x.sort()\n",
    "y = x[:10]\n",
    "print(x)\n",
    "print(y)"
   ]
  },
  {
   "cell_type": "code",
   "execution_count": 2,
   "metadata": {},
   "outputs": [],
   "source": [
    "import math\n",
    "def circle_intersection(x1, y1, x2, y2, r):\n",
    "    \"\"\"Calculate the intersection points of two circles with the same radius.\"\"\"\n",
    "    d = math.sqrt((x1 - x2)**2 + (y1 - y2)**2)  # distance between circle centers\n",
    "    if d > 2 * r:  # circles do not overlap\n",
    "        return None\n",
    "    else:\n",
    "        a = (r**2 - (d/2)**2) ** 0.5\n",
    "        xm = (x1 + x2) / 2\n",
    "        ym = (y1 + y2) / 2\n",
    "        xs1 = xm + a * (y2 - y1) / d\n",
    "        xs2 = xm - a * (y2 - y1) / d\n",
    "        ys1 = ym - a * (x2 - x1) / d\n",
    "        ys2 = ym + a * (x2 - x1) / d\n",
    "        return (xs1, ys1), (xs2, ys2)\n"
   ]
  },
  {
   "cell_type": "code",
   "execution_count": 6,
   "metadata": {},
   "outputs": [
    {
     "name": "stdout",
     "output_type": "stream",
     "text": [
      "((-0.7416198487095662, 1.9832396974191324), (0.7416198487095662, -0.9832396974191324))\n"
     ]
    }
   ],
   "source": [
    "print(circle_intersection(1,1,-1,-0, 2))"
   ]
  },
  {
   "cell_type": "code",
   "execution_count": 5,
   "metadata": {},
   "outputs": [
    {
     "data": {
      "text/plain": [
       "1.9999999999999998"
      ]
     },
     "execution_count": 5,
     "metadata": {},
     "output_type": "execute_result"
    }
   ],
   "source": [
    "math.sqrt(1+(1.7320508075688772)**2)\n"
   ]
  },
  {
   "cell_type": "code",
   "execution_count": 1,
   "metadata": {},
   "outputs": [
    {
     "ename": "NameError",
     "evalue": "name 'Point' is not defined",
     "output_type": "error",
     "traceback": [
      "\u001b[1;31m---------------------------------------------------------------------------\u001b[0m",
      "\u001b[1;31mNameError\u001b[0m                                 Traceback (most recent call last)",
      "Cell \u001b[1;32mIn[1], line 2\u001b[0m\n\u001b[0;32m      1\u001b[0m \u001b[39m# from submission import Point\u001b[39;00m\n\u001b[1;32m----> 2\u001b[0m p1 \u001b[39m=\u001b[39m Point(\u001b[39m9894\u001b[39m, \u001b[39m7895\u001b[39m)\n\u001b[0;32m      3\u001b[0m p2 \u001b[39m=\u001b[39m Point(\u001b[39m10111\u001b[39m, \u001b[39m6275\u001b[39m)\n\u001b[0;32m      5\u001b[0m \u001b[39mprint\u001b[39m(p1\u001b[39m.\u001b[39mdist(p2))\n",
      "\u001b[1;31mNameError\u001b[0m: name 'Point' is not defined"
     ]
    }
   ],
   "source": [
    "# from submission import Point\n",
    "p1 = Point(9894, 7895)\n",
    "p2 = Point(10111, 6275)\n",
    "\n",
    "print(p1.dist(p2))"
   ]
  },
  {
   "cell_type": "code",
   "execution_count": null,
   "metadata": {},
   "outputs": [],
   "source": []
  }
 ],
 "metadata": {
  "kernelspec": {
   "display_name": "Python 3.11.0 64-bit",
   "language": "python",
   "name": "python3"
  },
  "language_info": {
   "codemirror_mode": {
    "name": "ipython",
    "version": 3
   },
   "file_extension": ".py",
   "mimetype": "text/x-python",
   "name": "python",
   "nbconvert_exporter": "python",
   "pygments_lexer": "ipython3",
   "version": "3.11.0"
  },
  "orig_nbformat": 4,
  "vscode": {
   "interpreter": {
    "hash": "254ea960b4b54ae634fffb05d2e3137e996b8b6ce3f9e912e7aa488ac22ae5e4"
   }
  }
 },
 "nbformat": 4,
 "nbformat_minor": 2
}
